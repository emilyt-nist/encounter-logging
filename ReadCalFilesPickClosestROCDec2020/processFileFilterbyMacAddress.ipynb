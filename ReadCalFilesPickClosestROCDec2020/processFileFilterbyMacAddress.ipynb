{
 "cells": [
  {
   "cell_type": "code",
   "execution_count": null,
   "metadata": {},
   "outputs": [],
   "source": [
    "# This notebook processes the raw data files in ../calibration and subfolders.  \n",
    "# It finds only the closest device pair (the one with the largest RSSI) and makes a new filtered\n",
    "# file with only data from the closest pair.  Emily Townsend Dec 2020.\n",
    "\n",
    "import numpy as np\n",
    "import glob\n",
    "import os\n",
    "from filter_file import filter_file\n",
    "from filter_file import findMaxrssi\n",
    "from filter_file import findMaxrssiFilterFile\n",
    "from model import en_convert"
   ]
  },
  {
   "cell_type": "code",
   "execution_count": null,
   "metadata": {},
   "outputs": [],
   "source": [
    "files = glob.glob('../calibration/**/*.bin', recursive=True)\n",
    "\n",
    "key = [file.split('GMT')[0].split('NIST')[-1][4:].replace('_','') for file in files]\n",
    "\n",
    "sort_index = np.argsort(key)\n",
    "files = [files[i] for i in sort_index]\n",
    "#files"
   ]
  },
  {
   "cell_type": "code",
   "execution_count": null,
   "metadata": {},
   "outputs": [],
   "source": []
  },
  {
   "cell_type": "code",
   "execution_count": null,
   "metadata": {},
   "outputs": [],
   "source": [
    "for file in files:\n",
    "    input_filename = file\n",
    "    output_filename = 'FilteredData/closest'+(os.path.basename(input_filename).replace(\"raw\",\"_filtered\"))\n",
    "    findMaxrssiFilterFile(input_filename, output_filename)"
   ]
  }
 ],
 "metadata": {
  "kernelspec": {
   "display_name": "Python 3",
   "language": "python",
   "name": "python3"
  },
  "language_info": {
   "codemirror_mode": {
    "name": "ipython",
    "version": 3
   },
   "file_extension": ".py",
   "mimetype": "text/x-python",
   "name": "python",
   "nbconvert_exporter": "python",
   "pygments_lexer": "ipython3",
   "version": "3.8.3"
  }
 },
 "nbformat": 4,
 "nbformat_minor": 4
}
