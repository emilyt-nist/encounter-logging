{
 "cells": [
  {
   "cell_type": "code",
   "execution_count": null,
   "metadata": {},
   "outputs": [],
   "source": [
    "import glob\n",
    "import os\n",
    "import sys\n",
    "import time\n",
    "\n",
    "import matplotlib.pyplot as plt\n",
    "import numpy as np\n",
    "import pandas as pd\n",
    "import plotly.graph_objects as go\n",
    "import plotly.express as px\n",
    "\n",
    "module_path = os.path.abspath(os.path.join('..'))\n",
    "if module_path not in sys.path:\n",
    "    sys.path.append(module_path)\n",
    "\n",
    "from model import data_analysis\n",
    "from plotly.subplots import make_subplots\n",
    "\n",
    "DATA_PATH = '../data/raw/'"
   ]
  },
  {
   "cell_type": "code",
   "execution_count": null,
   "metadata": {},
   "outputs": [],
   "source": [
    "FILENAME = 'raw_NIST1001_20200715_024114_GMT.bin.marked.csv.csv'\n",
    "# 'raw_NIST1052_20200716_193850_GMT.bin.marked.csv.csv'\n",
    "# 'raw_NIST1051_20200716_192656_GMT.bin.marked.csv.csv'\n",
    "# 'raw_NIST1021_20200716_213906_GMT.bin.marked.csv'\n",
    "# # this data process above assumes a simple <60 dBm filter to set false positive\n",
    "# 'raw_NIST1014_20200708_014055_GMT.bin.marked.csv.csv'\n",
    "# 'raw_NIST1001_20200715_024114_GMT.bin.marked.csv.csv'\n",
    "\n",
    "df = data_analysis.load_marked(os.path.join(DATA_PATH, FILENAME))\n",
    "df.head()"
   ]
  },
  {
   "cell_type": "code",
   "execution_count": null,
   "metadata": {},
   "outputs": [],
   "source": [
    "df['close encounter'][1]"
   ]
  },
  {
   "cell_type": "code",
   "execution_count": null,
   "metadata": {},
   "outputs": [],
   "source": [
    "figure = data_analysis.plot_rssi(df['time'], df['rssi'])\n",
    "# add axes labels\n",
    "plt.show()"
   ]
  },
  {
   "cell_type": "code",
   "execution_count": null,
   "metadata": {},
   "outputs": [],
   "source": [
    "[unique_ids,unique_counts] = data_analysis.get_unique(df)\n",
    "unique_ids"
   ]
  },
  {
   "cell_type": "code",
   "execution_count": null,
   "metadata": {},
   "outputs": [],
   "source": [
    "figure = data_analysis.plot_data_check(df)\n",
    "figure.show()"
   ]
  },
  {
   "cell_type": "code",
   "execution_count": null,
   "metadata": {},
   "outputs": [],
   "source": [
    "WINDOW_SIZE = 6\n",
    "REQD_READINGS = 4\n",
    "CLOSE_LEVEL = -50\n",
    "# default value is -60\n",
    "\n",
    "fig = make_subplots(rows=1, cols=len(unique_ids[unique_counts>1])) #, shared_yaxes=True\n",
    "ylim0 = 1.05*min(df['rssi'])\n",
    "ylim1 = max(df['rssi'])\n",
    "fig.update_xaxes(title_text = \"Time\")\n",
    "fig.update_yaxes(title_text = \"RSSI\", row=1, col=1)\n",
    "fig.update_yaxes(range=[ylim0, ylim1])\n",
    "figcolors = px.colors.qualitative.Plotly\n",
    "\n",
    "for eid in range(len(unique_ids[unique_counts>1])):\n",
    "    df_eid = df[df['encounter_id'] == unique_ids[unique_counts>1][eid]].copy()\n",
    "    df_eid = data_analysis.mofn_filter(df_eid, WINDOW_SIZE, REQD_READINGS, CLOSE_LEVEL)\n",
    "    df_eid.set_index('time', inplace=True)\n",
    "    df_eid['comment_index'] = pd.notna(df_eid['close encounter'])\n",
    "    \n",
    "    transitions = data_analysis.transitions(df_eid)\n",
    "   \n",
    "#     print(transitions)\n",
    "\n",
    "    plot_index = eid+1\n",
    "    \n",
    "    for i in range (0, len(transitions), 2):\n",
    "        fig.add_trace(go.Scatter(x=[transitions[i], transitions[i], transitions[i+1], transitions[i+1], transitions[i]], \n",
    "                                 y=[ylim0, ylim1, ylim1, ylim0, ylim0], mode=\"lines\",\n",
    "                                 fill=\"toself\",line_width=0, fillcolor=figcolors[eid], opacity = 0.5, showlegend=False),\n",
    "                     row=1, col=plot_index)\n",
    "#         or use fillcolor = 'MediumPurple'\n",
    "    \n",
    "    fig.add_trace(go.Scatter(x=df_eid.index, y=df_eid.rssi,\n",
    "                             mode=\"markers\", marker_color=figcolors[eid], \n",
    "                             name = df_eid.encounter_id[1][:4], text=df_eid[\"close encounter\"]), \n",
    "                  row=1, col=plot_index)\n",
    "\n",
    "\n",
    "    del df_eid\n",
    "\n",
    "fig.show()\n",
    "\n",
    "# TODO change marker type based on 'close encounter' text\n",
    "# e.g. large circle if comment other than NaN, NO, YES, FALSE POSITIVE\n",
    "# e.g. triangle if comment NO, FALSE POSITIVE\n",
    "# e.g. current marker if NaN, YES"
   ]
  },
  {
   "cell_type": "code",
   "execution_count": null,
   "metadata": {},
   "outputs": [],
   "source": []
  }
 ],
 "metadata": {
  "kernelspec": {
   "display_name": "Python 3",
   "language": "python",
   "name": "python3"
  },
  "language_info": {
   "codemirror_mode": {
    "name": "ipython",
    "version": 3
   },
   "file_extension": ".py",
   "mimetype": "text/x-python",
   "name": "python",
   "nbconvert_exporter": "python",
   "pygments_lexer": "ipython3",
   "version": "3.7.2"
  }
 },
 "nbformat": 4,
 "nbformat_minor": 4
}
